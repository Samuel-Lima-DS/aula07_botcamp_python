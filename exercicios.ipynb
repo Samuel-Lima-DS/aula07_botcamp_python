{
 "cells": [
  {
   "cell_type": "markdown",
   "metadata": {},
   "source": [
    "# Exercicio 1\n",
    "Calcular Média de Valores em uma Lista\n"
   ]
  },
  {
   "cell_type": "code",
   "execution_count": 1,
   "metadata": {},
   "outputs": [
    {
     "data": {
      "text/plain": [
       "3.5"
      ]
     },
     "execution_count": 1,
     "metadata": {},
     "output_type": "execute_result"
    }
   ],
   "source": [
    "def media_valores(valores : list[float]) -> float:\n",
    "    return sum(valores) / len(valores) \n",
    "\n",
    "\n",
    "media_valores([1,2,3,4,5,6])\n",
    "\n"
   ]
  },
  {
   "cell_type": "markdown",
   "metadata": {},
   "source": [
    "# Exercício 2\n",
    "Filtrar Dados Acima de um Limite"
   ]
  },
  {
   "cell_type": "code",
   "execution_count": 5,
   "metadata": {},
   "outputs": [
    {
     "data": {
      "text/plain": [
       "[4, 5, 6]"
      ]
     },
     "execution_count": 5,
     "metadata": {},
     "output_type": "execute_result"
    }
   ],
   "source": [
    "def filtrar_dados(dados:list[float] , limite:float) -> list[float]:\n",
    "    resultado =[]\n",
    "    for dado in dados:\n",
    "        if dado > limite:\n",
    "            resultado.append(dado)\n",
    "    return resultado\n",
    "\n",
    "filtrar_dados([1,2,3,4,5,6], 3)\n"
   ]
  },
  {
   "cell_type": "markdown",
   "metadata": {},
   "source": [
    "# Exercicio 3 \n",
    "Contar Valores Únicos em uma Lista"
   ]
  },
  {
   "cell_type": "code",
   "execution_count": 9,
   "metadata": {},
   "outputs": [
    {
     "data": {
      "text/plain": [
       "5"
      ]
     },
     "execution_count": 9,
     "metadata": {},
     "output_type": "execute_result"
    }
   ],
   "source": [
    "def contar_valores_unicos(lista: list[int]) -> int:\n",
    "    return len(set(lista))\n",
    "\n",
    "contar_valores_unicos([1,1,2,2,3,4,5])"
   ]
  },
  {
   "cell_type": "markdown",
   "metadata": {},
   "source": [
    "# Exercicio 4\n",
    "Converter Celsius para Fahrenheit em uma Lista"
   ]
  },
  {
   "cell_type": "code",
   "execution_count": 10,
   "metadata": {},
   "outputs": [],
   "source": [
    "def celsius_para_fahrenheit(temperaturas_celsius: list[float]) -> list[float]:\n",
    "    return [(9/5) * temp + 32 for temp in temperaturas_celsius]"
   ]
  },
  {
   "cell_type": "markdown",
   "metadata": {},
   "source": [
    "# Exercicio 5 \n",
    "Calcular Desvio Padrão de uma Lista"
   ]
  },
  {
   "cell_type": "code",
   "execution_count": 12,
   "metadata": {},
   "outputs": [
    {
     "data": {
      "text/plain": [
       "2.8722813232690143"
      ]
     },
     "execution_count": 12,
     "metadata": {},
     "output_type": "execute_result"
    }
   ],
   "source": [
    "def calcular_desvio_padrao(valores: list[float]) -> float:\n",
    "    media = sum(valores) / len(valores)\n",
    "    variancia = sum((x - media) ** 2 for x in valores) / len(valores)\n",
    "    return variancia ** 0.5\n",
    "\n",
    "calcular_desvio_padrao([1,2,3,4,5,6,7,8,9,10])"
   ]
  },
  {
   "cell_type": "markdown",
   "metadata": {},
   "source": [
    "# Exercicio 6 \n",
    "Encontrar Valores Ausentes em uma Sequência"
   ]
  },
  {
   "cell_type": "code",
   "execution_count": 14,
   "metadata": {},
   "outputs": [],
   "source": [
    "def encontrar_valores_ausentes(sequencia: list[int]) -> list[int]:\n",
    "    completo = set(range(min(sequencia), max(sequencia) + 1))\n",
    "    return list(completo - set(sequencia))"
   ]
  }
 ],
 "metadata": {
  "kernelspec": {
   "display_name": "Python 3",
   "language": "python",
   "name": "python3"
  },
  "language_info": {
   "codemirror_mode": {
    "name": "ipython",
    "version": 3
   },
   "file_extension": ".py",
   "mimetype": "text/x-python",
   "name": "python",
   "nbconvert_exporter": "python",
   "pygments_lexer": "ipython3",
   "version": "3.12.5"
  }
 },
 "nbformat": 4,
 "nbformat_minor": 2
}
